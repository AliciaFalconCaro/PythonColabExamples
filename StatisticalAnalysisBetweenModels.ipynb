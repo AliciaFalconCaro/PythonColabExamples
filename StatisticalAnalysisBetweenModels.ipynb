{
  "nbformat": 4,
  "nbformat_minor": 0,
  "metadata": {
    "colab": {
      "provenance": [],
      "authorship_tag": "ABX9TyO9KaZe1hLPjEUpx/PIjfxQ",
      "include_colab_link": true
    },
    "kernelspec": {
      "name": "python3",
      "display_name": "Python 3"
    },
    "language_info": {
      "name": "python"
    }
  },
  "cells": [
    {
      "cell_type": "markdown",
      "metadata": {
        "id": "view-in-github",
        "colab_type": "text"
      },
      "source": [
        "<a href=\"https://colab.research.google.com/github/AliciaFalconCaro/PythonColabExamples/blob/main/StatisticalAnalysisBetweenModels.ipynb\" target=\"_parent\"><img src=\"https://colab.research.google.com/assets/colab-badge.svg\" alt=\"Open In Colab\"/></a>"
      ]
    },
    {
      "cell_type": "code",
      "source": [
        "pip install scikit-posthocs\n"
      ],
      "metadata": {
        "colab": {
          "base_uri": "https://localhost:8080/"
        },
        "id": "1aLr0migl2cL",
        "outputId": "f39c345e-4bf6-4d49-e1c7-dde8396c5ea1"
      },
      "execution_count": null,
      "outputs": [
        {
          "output_type": "stream",
          "name": "stdout",
          "text": [
            "Collecting scikit-posthocs\n",
            "  Downloading scikit_posthocs-0.10.0-py3-none-any.whl.metadata (5.8 kB)\n",
            "Requirement already satisfied: numpy in /usr/local/lib/python3.10/dist-packages (from scikit-posthocs) (1.26.4)\n",
            "Requirement already satisfied: scipy>=1.9.0 in /usr/local/lib/python3.10/dist-packages (from scikit-posthocs) (1.13.1)\n",
            "Requirement already satisfied: statsmodels in /usr/local/lib/python3.10/dist-packages (from scikit-posthocs) (0.14.4)\n",
            "Requirement already satisfied: pandas>=0.20.0 in /usr/local/lib/python3.10/dist-packages (from scikit-posthocs) (2.2.2)\n",
            "Requirement already satisfied: seaborn in /usr/local/lib/python3.10/dist-packages (from scikit-posthocs) (0.13.2)\n",
            "Requirement already satisfied: matplotlib in /usr/local/lib/python3.10/dist-packages (from scikit-posthocs) (3.8.0)\n",
            "Requirement already satisfied: python-dateutil>=2.8.2 in /usr/local/lib/python3.10/dist-packages (from pandas>=0.20.0->scikit-posthocs) (2.8.2)\n",
            "Requirement already satisfied: pytz>=2020.1 in /usr/local/lib/python3.10/dist-packages (from pandas>=0.20.0->scikit-posthocs) (2024.2)\n",
            "Requirement already satisfied: tzdata>=2022.7 in /usr/local/lib/python3.10/dist-packages (from pandas>=0.20.0->scikit-posthocs) (2024.2)\n",
            "Requirement already satisfied: contourpy>=1.0.1 in /usr/local/lib/python3.10/dist-packages (from matplotlib->scikit-posthocs) (1.3.0)\n",
            "Requirement already satisfied: cycler>=0.10 in /usr/local/lib/python3.10/dist-packages (from matplotlib->scikit-posthocs) (0.12.1)\n",
            "Requirement already satisfied: fonttools>=4.22.0 in /usr/local/lib/python3.10/dist-packages (from matplotlib->scikit-posthocs) (4.54.1)\n",
            "Requirement already satisfied: kiwisolver>=1.0.1 in /usr/local/lib/python3.10/dist-packages (from matplotlib->scikit-posthocs) (1.4.7)\n",
            "Requirement already satisfied: packaging>=20.0 in /usr/local/lib/python3.10/dist-packages (from matplotlib->scikit-posthocs) (24.1)\n",
            "Requirement already satisfied: pillow>=6.2.0 in /usr/local/lib/python3.10/dist-packages (from matplotlib->scikit-posthocs) (10.4.0)\n",
            "Requirement already satisfied: pyparsing>=2.3.1 in /usr/local/lib/python3.10/dist-packages (from matplotlib->scikit-posthocs) (3.2.0)\n",
            "Requirement already satisfied: patsy>=0.5.6 in /usr/local/lib/python3.10/dist-packages (from statsmodels->scikit-posthocs) (0.5.6)\n",
            "Requirement already satisfied: six in /usr/local/lib/python3.10/dist-packages (from patsy>=0.5.6->statsmodels->scikit-posthocs) (1.16.0)\n",
            "Downloading scikit_posthocs-0.10.0-py3-none-any.whl (33 kB)\n",
            "Installing collected packages: scikit-posthocs\n",
            "Successfully installed scikit-posthocs-0.10.0\n"
          ]
        }
      ]
    },
    {
      "cell_type": "code",
      "source": [
        "import numpy as np\n",
        "from scipy.io import loadmat\n",
        "\n",
        "#DAOT ideal vs Competing Methods:\n",
        "mat_data = loadmat('Dataset1_SubGesturesFullBessels_LOSOkfolds.mat')\n",
        "IdealDAOTModel = np.array(mat_data['ValAccuracy'])/100\n",
        "print(IdealDAOTModel.shape)\n",
        "\n",
        "#Competing Method 1: 2/3 DAOT\n",
        "mat_data = loadmat('Dataset1_SubGestures2-3Bessels_LOSOkfolds.mat')\n",
        "DAOTModel2_3 = np.array(mat_data['ValAccuracy'])/100\n",
        "\n",
        "#Competing Method 1: EEGNet\n",
        "mat_data = loadmat('Dataset1_SubGesturesEEGNet_LOSOkfolds.mat')\n",
        "EEGNetModel = np.array(mat_data['ValAccuracy'])/100\n",
        "print(EEGNetModel.shape)\n",
        "\n",
        "#Competing Method 1: SCCNet\n",
        "mat_data = loadmat('Dataset1_SubGesturesSCCNet_LOSOkfolds.mat')\n",
        "SCCNetModel = np.array(mat_data['ValAccuracy'])/100"
      ],
      "metadata": {
        "colab": {
          "base_uri": "https://localhost:8080/"
        },
        "id": "7pAREl3RmR5B",
        "outputId": "2b70aa2c-3ede-4695-e483-a747ae2cfe82"
      },
      "execution_count": null,
      "outputs": [
        {
          "output_type": "stream",
          "name": "stdout",
          "text": [
            "(14, 1)\n",
            "(14, 1)\n"
          ]
        }
      ]
    },
    {
      "cell_type": "code",
      "source": [
        "# Combine the arrays into a single (14, 4) array\n",
        "combined_data = np.column_stack((IdealDAOTModel, DAOTModel2_3, EEGNetModel, SCCNetModel))\n",
        "\n",
        "print(\"Combined Data Shape:\", combined_data.shape)  # Should output (14, 4)\n",
        "print(\"Combined Data:\\n\", combined_data)"
      ],
      "metadata": {
        "colab": {
          "base_uri": "https://localhost:8080/"
        },
        "id": "S6SURTJWoSQH",
        "outputId": "cedafd85-0f21-46e0-9a08-22c9b42543bd"
      },
      "execution_count": null,
      "outputs": [
        {
          "output_type": "stream",
          "name": "stdout",
          "text": [
            "Combined Data Shape: (14, 4)\n",
            "Combined Data:\n",
            " [[1.         0.7        0.         0.        ]\n",
            " [1.         0.6        0.2        0.        ]\n",
            " [1.         0.8        0.3        0.3       ]\n",
            " [1.         0.6142857  0.         0.1       ]\n",
            " [1.         0.8285714  0.1        0.2       ]\n",
            " [0.98571426 0.64285713 0.1        0.4       ]\n",
            " [1.         0.8        0.2        0.        ]\n",
            " [1.         0.62857143 0.2        0.1       ]\n",
            " [1.         0.6        0.2        0.        ]\n",
            " [1.         0.68571426 0.1        0.1       ]\n",
            " [1.         0.7        0.         0.        ]\n",
            " [1.         0.8        0.1        0.        ]\n",
            " [1.         0.52857143 0.4        0.2       ]\n",
            " [1.         0.81428574 0.5        0.1       ]]\n"
          ]
        }
      ]
    },
    {
      "cell_type": "code",
      "source": [
        "import pandas as pd\n",
        "from scipy.stats import friedmanchisquare\n",
        "import scikit_posthocs as sp\n",
        "\n",
        "# Step 1: Rank the models within each fold\n",
        "ranked_data = np.apply_along_axis(lambda x: pd.Series(x).rank().values, axis=1, arr=combined_data)\n",
        "\n",
        "# Step 2: Calculate fold weights based on the differences of model ranks\n",
        "fold_means = np.mean(ranked_data, axis=1)\n",
        "fold_weights = np.abs(ranked_data - fold_means[:, None]).sum(axis=1)\n",
        "\n",
        "# Step 3: Calculate weighted ranks\n",
        "weighted_ranks = ranked_data * fold_weights[:, None]\n",
        "\n",
        "# Step 4: Compute Quade's test statistic\n",
        "# Average the weighted ranks for each model\n",
        "model_means = np.mean(weighted_ranks, axis=0)\n",
        "\n",
        "# Compute the mean of weighted ranks overall\n",
        "overall_mean = np.mean(weighted_ranks)\n",
        "\n",
        "# Quade's F-statistic formula\n",
        "ss_between = len(combined_data) * np.sum((model_means - overall_mean) ** 2)\n",
        "ss_within = np.sum((weighted_ranks - model_means) ** 2)\n",
        "quade_statistic = (ss_between / (combined_data.shape[1] - 1)) / (ss_within / (combined_data.size - combined_data.shape[1]))\n",
        "\n",
        "print(\"Quade Statistic:\", quade_statistic)\n",
        "\n",
        "# Step 5: Post-hoc tests if significant (pairwise comparisons)\n",
        "# Use Nemenyi test to find out which models differ if the Quade statistic is significant\n",
        "p_values = sp.posthoc_nemenyi_friedman(ranked_data)\n",
        "print(\"Post-hoc p-values (Nemenyi test):\\n\", p_values)\n"
      ],
      "metadata": {
        "colab": {
          "base_uri": "https://localhost:8080/"
        },
        "id": "-yZEwDT5oeH1",
        "outputId": "715fc9ef-9a63-4ece-84cb-032b15aa73db"
      },
      "execution_count": null,
      "outputs": [
        {
          "output_type": "stream",
          "name": "stdout",
          "text": [
            "Quade Statistic: 248.81720430107526\n",
            "Post-hoc p-values (Nemenyi test):\n",
            "               0         1         2             3\n",
            "0  1.000000e+00  0.170052  0.000008  3.642340e-07\n",
            "1  1.700516e-01  1.000000  0.027748  4.232164e-03\n",
            "2  8.100149e-06  0.027748  1.000000  9.364803e-01\n",
            "3  3.642340e-07  0.004232  0.936480  1.000000e+00\n"
          ]
        }
      ]
    },
    {
      "cell_type": "code",
      "source": [],
      "metadata": {
        "colab": {
          "base_uri": "https://localhost:8080/"
        },
        "id": "asDFhhlWkXkw",
        "outputId": "9d13d2c7-b089-41a2-d4cd-150a37a9b7a6"
      },
      "execution_count": null,
      "outputs": [
        {
          "output_type": "stream",
          "name": "stdout",
          "text": [
            "Quade Statistic: 13.570093457943923\n",
            "Post-hoc p-values (Nemenyi test):\n",
            "      0    1    2\n",
            "0  1.0  1.0  1.0\n",
            "1  1.0  1.0  1.0\n",
            "2  1.0  1.0  1.0\n"
          ]
        }
      ]
    },
    {
      "cell_type": "code",
      "source": [
        "## Other statistical tests\n",
        "\n",
        "import numpy as np\n",
        "import matplotlib.pyplot as plt\n",
        "import seaborn as sns\n",
        "from scipy import stats\n",
        "\n",
        "# Step 1: Calculate differences\n",
        "differences = IdealDAOTModel.flatten() - EEGNetModel.flatten()\n",
        "print(differences.shape)\n",
        "print(differences)\n",
        "\n",
        "# Step 2: Visual Inspection\n",
        "# Histogram\n",
        "plt.figure(figsize=(12, 5))\n",
        "plt.subplot(1, 2, 1)\n",
        "sns.histplot(differences, kde=True)\n",
        "plt.title('Histogram of Differences')\n",
        "plt.xlabel('Difference (Model A - Model B)')\n",
        "\n",
        "# Q-Q Plot\n",
        "plt.subplot(1, 2, 2)\n",
        "stats.probplot(differences, dist=\"norm\", plot=plt)\n",
        "plt.title('Q-Q Plot')\n",
        "plt.show()\n",
        "\n",
        "# Step 3: Statistical Tests for Normality\n",
        "shapiro_stat, shapiro_p = stats.shapiro(differences)\n",
        "ks_stat, ks_p = stats.kstest(differences, 'norm', args=(np.mean(differences), np.std(differences)))\n",
        "\n",
        "print(f'Shapiro-Wilk Test: Statistic={shapiro_stat}, p-value={shapiro_p}')\n",
        "print(f'Kolmogorov-Smirnov Test: Statistic={ks_stat}, p-value={ks_p}')\n"
      ],
      "metadata": {
        "colab": {
          "base_uri": "https://localhost:8080/",
          "height": 543
        },
        "id": "N0ndhJl4LW71",
        "outputId": "cf8698b1-1d18-4a06-cd37-51034a13b0b8"
      },
      "execution_count": null,
      "outputs": [
        {
          "output_type": "stream",
          "name": "stdout",
          "text": [
            "(14,)\n",
            "[1.         0.8        0.7        1.         0.9        0.88571426\n",
            " 0.8        0.8        0.8        0.9        1.         0.9\n",
            " 0.6        0.5       ]\n"
          ]
        },
        {
          "output_type": "display_data",
          "data": {
            "text/plain": [
              "<Figure size 1200x500 with 2 Axes>"
            ],
            "image/png": "[encoded data removed]"
          },
          "metadata": {}
        },
        {
          "output_type": "stream",
          "name": "stdout",
          "text": [
            "Shapiro-Wilk Test: Statistic=0.9028063094974518, p-value=0.12387827290661124\n",
            "Kolmogorov-Smirnov Test: Statistic=0.20938230179722614, p-value=0.5056945571407719\n"
          ]
        }
      ]
    },
    {
      "cell_type": "code",
      "source": [
        "t_statistic, p_value_ttest = stats.ttest_rel(IdealDAOTModel, EEGNetModel)\n",
        "# Wilcoxon signed-rank test\n",
        "w_statistic, w_p_value = stats.wilcoxon(differences)\n",
        "\n",
        "# Print results\n",
        "print(f\"Paired t-test: t-statistic = {t_statistic}, p-value = {p_value_ttest}\")\n",
        "print(f'Wilcoxon Signed-Rank Test: W-statistic={w_statistic}, p-value={w_p_value}')\n"
      ],
      "metadata": {
        "colab": {
          "base_uri": "https://localhost:8080/"
        },
        "id": "oBuSO32EMzqF",
        "outputId": "ff7d67e7-5da3-42c7-e93e-41578be00b32"
      },
      "execution_count": null,
      "outputs": [
        {
          "output_type": "stream",
          "name": "stdout",
          "text": [
            "Paired t-test: t-statistic = [20.8497759], p-value = [2.24540074e-11]\n",
            "Wilcoxon Signed-Rank Test: W-statistic=0.0, p-value=0.0001220703125\n"
          ]
        }
      ]
    },
    {
      "cell_type": "code",
      "source": [
        "mean_a = np.mean(IdealDAOTModel)\n",
        "mean_b = np.mean(EEGNetModel)\n",
        "std_a = np.std(IdealDAOTModel, ddof=1)\n",
        "std_b = np.std(EEGNetModel, ddof=1)\n",
        "\n",
        "cohen_d = (mean_a - mean_b) / np.sqrt((std_a**2 + std_b**2) / 2)\n",
        "print(f\"Cohen's d: {cohen_d}\")"
      ],
      "metadata": {
        "colab": {
          "base_uri": "https://localhost:8080/"
        },
        "id": "GqN4izDUPPkf",
        "outputId": "acca7b14-8a95-4c66-9283-e5eb8f454456"
      },
      "execution_count": null,
      "outputs": [
        {
          "output_type": "stream",
          "name": "stdout",
          "text": [
            "Cohen's d: 7.852577532619894\n"
          ]
        }
      ]
    },
    {
      "cell_type": "code",
      "source": [
        "differences1 = [m1 - m2 for m1, m2 in zip(IdealDAOTModel, EEGNetModel)]\n",
        "print(differences1)\n",
        "differences2 = IdealDAOTModel - EEGNetModel\n",
        "print(differences2)"
      ],
      "metadata": {
        "colab": {
          "base_uri": "https://localhost:8080/"
        },
        "id": "ZlVo-Um2JiYt",
        "outputId": "35b88c6a-8f51-46fb-bb29-0e2981120bd4"
      },
      "execution_count": null,
      "outputs": [
        {
          "output_type": "stream",
          "name": "stdout",
          "text": [
            "[array([1.]), array([0.8]), array([0.7]), array([1.]), array([0.9]), array([0.88571426]), array([0.8]), array([0.8]), array([0.8]), array([0.9]), array([1.]), array([0.9]), array([0.6]), array([0.5])]\n",
            "[[1.        ]\n",
            " [0.8       ]\n",
            " [0.7       ]\n",
            " [1.        ]\n",
            " [0.9       ]\n",
            " [0.88571426]\n",
            " [0.8       ]\n",
            " [0.8       ]\n",
            " [0.8       ]\n",
            " [0.9       ]\n",
            " [1.        ]\n",
            " [0.9       ]\n",
            " [0.6       ]\n",
            " [0.5       ]]\n"
          ]
        }
      ]
    },
    {
      "cell_type": "code",
      "execution_count": null,
      "metadata": {
        "colab": {
          "base_uri": "https://localhost:8080/"
        },
        "id": "QxH6T_GFR_kX",
        "outputId": "3d2e17ec-8626-44a5-f78a-25be119e5831"
      },
      "outputs": [
        {
          "output_type": "stream",
          "name": "stdout",
          "text": [
            "Comparison: Model Ideal DAOT vs Model 2/3 DAOT, p-value:  [0.00012207]\n",
            "Comparison: Model Ideal DAOT vs Model EEGNet, p-value:  [0.00012207]\n",
            "Comparison: Model Ideal DAOT vs Model SCCNet, p-value:  [0.00012207]\n"
          ]
        }
      ],
      "source": [
        "from scipy.stats import wilcoxon\n",
        "\n",
        "#for each pairwise value\n",
        "[stat, p_value] = wilcoxon(differences2)\n",
        "print('Comparison: Model Ideal DAOT vs Model 2/3 DAOT, p-value: ', (p_value))\n",
        "\n",
        "#for each pairwise value\n",
        "[stat, p_value] = wilcoxon(IdealDAOTModel, EEGNetModel)\n",
        "print('Comparison: Model Ideal DAOT vs Model EEGNet, p-value: ', (p_value))\n",
        "\n",
        "#for each pairwise value\n",
        "[stat, p_value] = wilcoxon(IdealDAOTModel, SCCNetModel)\n",
        "print('Comparison: Model Ideal DAOT vs Model SCCNet, p-value: ', (p_value))\n"
      ]
    },
    {
      "cell_type": "code",
      "source": [
        "from scipy.stats import wilcoxon\n",
        "\n",
        "#for each pairwise value\n",
        "[stat, p_value] = wilcoxon(DAOTModel2_3, IdealDAOTModel)\n",
        "print('Comparison: Model 2/3 DAOT vs Model Ideal DAOT, p-value: ', (p_value))\n",
        "\n",
        "#for each pairwise value\n",
        "[stat, p_value] = wilcoxon(DAOTModel2_3, EEGNetModel)\n",
        "print('Comparison: Model 2/3 DAOT vs Model EEGNet, p-value: ', (p_value))\n",
        "\n",
        "#for each pairwise value\n",
        "[stat, p_value] = wilcoxon(DAOTModel2_3, SCCNetModel)\n",
        "print('Comparison: Model 2/3 DAOT vs Model SCCNet, p-value: ', (p_value))"
      ],
      "metadata": {
        "colab": {
          "base_uri": "https://localhost:8080/"
        },
        "id": "iQR3ta5Efpo3",
        "outputId": "ad5aaa99-871d-4994-9ce4-447e0e977933"
      },
      "execution_count": null,
      "outputs": [
        {
          "output_type": "stream",
          "name": "stdout",
          "text": [
            "Comparison: Model 2/3 DAOT vs Model Ideal DAOT, p-value:  [0.00012207]\n",
            "Comparison: Model 2/3 DAOT vs Model EEGNet, p-value:  [0.00012207]\n",
            "Comparison: Model 2/3 DAOT vs Model SCCNet, p-value:  [0.00012207]\n"
          ]
        }
      ]
    }
  ]
}