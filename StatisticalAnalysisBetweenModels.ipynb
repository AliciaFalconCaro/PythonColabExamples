{
  "nbformat": 4,
  "nbformat_minor": 0,
  "metadata": {
    "colab": {
      "provenance": [],
      "authorship_tag": "ABX9TyNraBNm8duEdo/sF+fT6SnN",
      "include_colab_link": true
    },
    "kernelspec": {
      "name": "python3",
      "display_name": "Python 3"
    },
    "language_info": {
      "name": "python"
    }
  },
  "cells": [
    {
      "cell_type": "markdown",
      "metadata": {
        "id": "view-in-github",
        "colab_type": "text"
      },
      "source": [
        "<a href=\"https://colab.research.google.com/github/AliciaFalconCaro/PythonColabExamples/blob/main/StatisticalAnalysisBetweenModels.ipynb\" target=\"_parent\"><img src=\"https://colab.research.google.com/assets/colab-badge.svg\" alt=\"Open In Colab\"/></a>"
      ]
    },
    {
      "cell_type": "code",
      "source": [
        "pip install scikit-posthocs\n"
      ],
      "metadata": {
        "id": "1aLr0migl2cL"
      },
      "execution_count": null,
      "outputs": []
    },
    {
      "cell_type": "code",
      "source": [
        "import numpy as np\n",
        "from scipy.io import loadmat\n",
        "\n",
        "#The loaded files contain the Leave-one-subject-out k fold crossvalidation data for each trained model.\n",
        "\n",
        "#DAOT ideal vs Competing Methods:\n",
        "mat_data = loadmat('Dataset1_SubGesturesFullBessels_LOSOkfolds.mat')\n",
        "IdealDAOTModel = np.array(mat_data['ValAccuracy'])/100\n",
        "print(IdealDAOTModel.shape)\n",
        "\n",
        "#Competing Method 1: 2/3 DAOT\n",
        "mat_data = loadmat('Dataset1_SubGestures2-3Bessels_LOSOkfolds.mat')\n",
        "DAOTModel2_3 = np.array(mat_data['ValAccuracy'])/100\n",
        "\n",
        "#Competing Method 1: EEGNet\n",
        "mat_data = loadmat('Dataset1_SubGesturesEEGNet_LOSOkfolds.mat')\n",
        "EEGNetModel = np.array(mat_data['ValAccuracy'])/100\n",
        "print(EEGNetModel.shape)\n",
        "\n",
        "#Competing Method 1: SCCNet\n",
        "mat_data = loadmat('Dataset1_SubGesturesSCCNet_LOSOkfolds.mat')\n",
        "SCCNetModel = np.array(mat_data['ValAccuracy'])/100"
      ],
      "metadata": {
        "colab": {
          "base_uri": "https://localhost:8080/"
        },
        "id": "7pAREl3RmR5B",
        "outputId": "2b70aa2c-3ede-4695-e483-a747ae2cfe82"
      },
      "execution_count": null,
      "outputs": [
        {
          "output_type": "stream",
          "name": "stdout",
          "text": [
            "(14, 1)\n",
            "(14, 1)\n"
          ]
        }
      ]
    },
    {
      "cell_type": "code",
      "source": [
        "# Combine the arrays into a single (14, 4) array\n",
        "combined_data = np.column_stack((IdealDAOTModel, DAOTModel2_3, EEGNetModel, SCCNetModel))\n",
        "\n",
        "print(\"Combined Data Shape:\", combined_data.shape)  # Should output (14, 4)\n",
        "print(\"Combined Data:\\n\", combined_data)"
      ],
      "metadata": {
        "colab": {
          "base_uri": "https://localhost:8080/"
        },
        "id": "S6SURTJWoSQH",
        "outputId": "cedafd85-0f21-46e0-9a08-22c9b42543bd"
      },
      "execution_count": null,
      "outputs": [
        {
          "output_type": "stream",
          "name": "stdout",
          "text": [
            "Combined Data Shape: (14, 4)\n",
            "Combined Data:\n",
            " [[1.         0.7        0.         0.        ]\n",
            " [1.         0.6        0.2        0.        ]\n",
            " [1.         0.8        0.3        0.3       ]\n",
            " [1.         0.6142857  0.         0.1       ]\n",
            " [1.         0.8285714  0.1        0.2       ]\n",
            " [0.98571426 0.64285713 0.1        0.4       ]\n",
            " [1.         0.8        0.2        0.        ]\n",
            " [1.         0.62857143 0.2        0.1       ]\n",
            " [1.         0.6        0.2        0.        ]\n",
            " [1.         0.68571426 0.1        0.1       ]\n",
            " [1.         0.7        0.         0.        ]\n",
            " [1.         0.8        0.1        0.        ]\n",
            " [1.         0.52857143 0.4        0.2       ]\n",
            " [1.         0.81428574 0.5        0.1       ]]\n"
          ]
        }
      ]
    },
    {
      "cell_type": "code",
      "source": [
        "import pandas as pd\n",
        "from scipy.stats import friedmanchisquare\n",
        "import scikit_posthocs as sp\n",
        "\n",
        "# Step 1: Rank the models within each fold\n",
        "ranked_data = np.apply_along_axis(lambda x: pd.Series(x).rank().values, axis=1, arr=combined_data)\n",
        "\n",
        "# Step 2: Calculate fold weights based on the differences of model ranks\n",
        "fold_means = np.mean(ranked_data, axis=1)\n",
        "fold_weights = np.abs(ranked_data - fold_means[:, None]).sum(axis=1)\n",
        "\n",
        "# Step 3: Calculate weighted ranks\n",
        "weighted_ranks = ranked_data * fold_weights[:, None]\n",
        "\n",
        "# Step 4: Compute Quade's test statistic\n",
        "# Average the weighted ranks for each model\n",
        "model_means = np.mean(weighted_ranks, axis=0)\n",
        "\n",
        "# Compute the mean of weighted ranks overall\n",
        "overall_mean = np.mean(weighted_ranks)\n",
        "\n",
        "# Quade's F-statistic formula\n",
        "ss_between = len(combined_data) * np.sum((model_means - overall_mean) ** 2)\n",
        "ss_within = np.sum((weighted_ranks - model_means) ** 2)\n",
        "quade_statistic = (ss_between / (combined_data.shape[1] - 1)) / (ss_within / (combined_data.size - combined_data.shape[1]))\n",
        "\n",
        "print(\"Quade Statistic:\", quade_statistic)\n",
        "\n",
        "# Step 5: Post-hoc tests if significant (pairwise comparisons)\n",
        "# Use Nemenyi test to find out which models differ if the Quade statistic is significant\n",
        "p_values = sp.posthoc_nemenyi_friedman(ranked_data)\n",
        "print(\"Post-hoc p-values (Nemenyi test):\\n\", p_values)\n"
      ],
      "metadata": {
        "colab": {
          "base_uri": "https://localhost:8080/"
        },
        "id": "-yZEwDT5oeH1",
        "outputId": "715fc9ef-9a63-4ece-84cb-032b15aa73db"
      },
      "execution_count": null,
      "outputs": [
        {
          "output_type": "stream",
          "name": "stdout",
          "text": [
            "Quade Statistic: 248.81720430107526\n",
            "Post-hoc p-values (Nemenyi test):\n",
            "               0         1         2             3\n",
            "0  1.000000e+00  0.170052  0.000008  3.642340e-07\n",
            "1  1.700516e-01  1.000000  0.027748  4.232164e-03\n",
            "2  8.100149e-06  0.027748  1.000000  9.364803e-01\n",
            "3  3.642340e-07  0.004232  0.936480  1.000000e+00\n"
          ]
        }
      ]
    },
    {
      "cell_type": "code",
      "source": [
        "## Other statistical tests\n",
        "\n",
        "import numpy as np\n",
        "import matplotlib.pyplot as plt\n",
        "import seaborn as sns\n",
        "from scipy import stats\n",
        "\n",
        "# Step 1: Calculate differences\n",
        "differences = IdealDAOTModel.flatten() - EEGNetModel.flatten()\n",
        "print(differences.shape)\n",
        "print(differences)\n",
        "\n",
        "# Step 2: Visual Inspection\n",
        "# Histogram\n",
        "plt.figure(figsize=(12, 5))\n",
        "plt.subplot(1, 2, 1)\n",
        "sns.histplot(differences, kde=True)\n",
        "plt.title('Histogram of Differences')\n",
        "plt.xlabel('Difference (Model A - Model B)')\n",
        "\n",
        "# Q-Q Plot\n",
        "plt.subplot(1, 2, 2)\n",
        "stats.probplot(differences, dist=\"norm\", plot=plt)\n",
        "plt.title('Q-Q Plot')\n",
        "plt.show()\n",
        "\n",
        "# Step 3: Statistical Tests for Normality\n",
        "shapiro_stat, shapiro_p = stats.shapiro(differences)\n",
        "ks_stat, ks_p = stats.kstest(differences, 'norm', args=(np.mean(differences), np.std(differences)))\n",
        "\n",
        "print(f'Shapiro-Wilk Test: Statistic={shapiro_stat}, p-value={shapiro_p}')\n",
        "print(f'Kolmogorov-Smirnov Test: Statistic={ks_stat}, p-value={ks_p}')\n"
      ],
      "metadata": {
        "id": "N0ndhJl4LW71"
      },
      "execution_count": null,
      "outputs": []
    }
  ]
}